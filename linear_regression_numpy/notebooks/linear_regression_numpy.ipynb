{
 "cells": [
  {
   "cell_type": "markdown",
   "id": "6ac78665",
   "metadata": {},
   "source": [
    "# 🧠 Linear Regression from Scratch using NumPy\n",
    "\n",
    "This project demonstrates how to build and evaluate a **Linear Regression model** using only **NumPy**, without any external ML libraries.\n",
    "\n",
    "We use a realistic housing dataset (`housing.csv`) containing features like:\n",
    "- Size (in sq. ft)\n",
    "- Rooms\n",
    "- Age of the house\n",
    "- Garage (0 or 1)\n",
    "\n",
    "We predict the house **Price** using a closed-form solution: **Normal Equation**.\n"
   ]
  },
  {
   "cell_type": "code",
   "execution_count": 20,
   "id": "b698da4f",
   "metadata": {},
   "outputs": [],
   "source": [
    "import numpy as np\n"
   ]
  },
  {
   "cell_type": "code",
   "execution_count": 21,
   "id": "826bca44",
   "metadata": {},
   "outputs": [],
   "source": [
    "# Load CSV file (skip header)\n",
    "data = np.genfromtxt(\"../data/housing.csv\", delimiter=\",\", skip_header=1)\n",
    "\n",
    "# Split into features (X) and target (y)\n",
    "X = data[:, :-1]  # All columns except last\n",
    "y = data[:, -1]   # Last column is the target\n"
   ]
  },
  {
   "cell_type": "code",
   "execution_count": 22,
   "id": "fad7c847",
   "metadata": {},
   "outputs": [],
   "source": [
    "def normalize(X):\n",
    "    mean = np.mean(X, axis=0)\n",
    "    std = np.std(X, axis=0)\n",
    "    return (X - mean) / std, mean, std\n",
    "\n",
    "X_norm, mean, std = normalize(X)\n"
   ]
  },
  {
   "cell_type": "code",
   "execution_count": 23,
   "id": "ec90a131",
   "metadata": {},
   "outputs": [],
   "source": [
    "def add_bias(X):\n",
    "    return np.c_[np.ones(X.shape[0]), X]  # Add column of 1s\n",
    "\n",
    "X_bias = add_bias(X_norm)\n"
   ]
  },
  {
   "cell_type": "code",
   "execution_count": 24,
   "id": "d4d79bfc",
   "metadata": {},
   "outputs": [
    {
     "name": "stdout",
     "output_type": "stream",
     "text": [
      "Model Coefficients (Theta):\n",
      " [222541.0145      77357.14229981  22113.08821539  -3965.78708361\n",
      "   6101.29576169]\n"
     ]
    }
   ],
   "source": [
    "def normal_equation(X, y):\n",
    "    return np.linalg.inv(X.T @ X) @ X.T @ y\n",
    "\n",
    "theta = normal_equation(X_bias, y)\n",
    "print(\"Model Coefficients (Theta):\\n\", theta)\n"
   ]
  },
  {
   "cell_type": "code",
   "execution_count": 25,
   "id": "6924c80d",
   "metadata": {},
   "outputs": [],
   "source": [
    "y_pred = X_bias @ theta\n"
   ]
  },
  {
   "cell_type": "code",
   "execution_count": 26,
   "id": "27b4c426",
   "metadata": {},
   "outputs": [
    {
     "name": "stdout",
     "output_type": "stream",
     "text": [
      "Mean Squared Error: 95369413.20\n",
      "R² Score: 0.9856\n"
     ]
    }
   ],
   "source": [
    "def mean_squared_error(y_true, y_pred):\n",
    "    return np.mean((y_true - y_pred) ** 2)\n",
    "\n",
    "def r2_score(y_true, y_pred):\n",
    "    ss_res = np.sum((y_true - y_pred) ** 2)\n",
    "    ss_tot = np.sum((y_true - np.mean(y_true)) ** 2)\n",
    "    return 1 - (ss_res / ss_tot)\n",
    "\n",
    "mse = mean_squared_error(y, y_pred)\n",
    "r2 = r2_score(y, y_pred)\n",
    "\n",
    "print(f\"Mean Squared Error: {mse:.2f}\")\n",
    "print(f\"R² Score: {r2:.4f}\")\n"
   ]
  },
  {
   "cell_type": "code",
   "execution_count": null,
   "id": "8660155b",
   "metadata": {},
   "outputs": [
    {
     "name": "stdout",
     "output_type": "stream",
     "text": [
      "Predicted Price for [1800    3   10    1]: $228,621.34\n"
     ]
    }
   ],
   "source": [
    "# Example new house: [Size, Rooms, Age, Garage]\n",
    "new_house = np.array([[1800, 3, 10, 1]])\n",
    "\n",
    "# Normalize with training mean and std\n",
    "new_house_norm = (new_house - mean) / std\n",
    "\n",
    "# Add bias term\n",
    "new_house_bias = add_bias(new_house_norm)\n",
    "\n",
    "# Predict\n",
    "predicted_price = new_house_bias @ theta\n",
    "print(f\"Predicted Price for {new_house[0]}: ${predicted_price[0]:,.2f}\")\n"
   ]
  },
  {
   "cell_type": "markdown",
   "id": "96179460",
   "metadata": {},
   "source": [
    "## ✅ Summary\n",
    "\n",
    "- Built a linear regression model from scratch using NumPy.\n",
    "- Trained on a realistic housing dataset with 100 entries.\n",
    "- Achieved good performance using the closed-form Normal Equation.\n",
    "- No scikit-learn or pandas used — pure NumPy!\n"
   ]
  }
 ],
 "metadata": {
  "kernelspec": {
   "display_name": "Python 3",
   "language": "python",
   "name": "python3"
  },
  "language_info": {
   "codemirror_mode": {
    "name": "ipython",
    "version": 3
   },
   "file_extension": ".py",
   "mimetype": "text/x-python",
   "name": "python",
   "nbconvert_exporter": "python",
   "pygments_lexer": "ipython3",
   "version": "3.13.1"
  }
 },
 "nbformat": 4,
 "nbformat_minor": 5
}
