{
 "cells": [
  {
   "cell_type": "markdown",
   "id": "065d7c55",
   "metadata": {},
   "source": [
    "# 🧠 Linear Regression from Scratch using NumPy\n",
    "\n",
    "In this project, we build a linear regression model using the **Normal Equation** and evaluate it using **MSE** and **R² Score** — all with only NumPy."
   ]
  },
  {
   "cell_type": "code",
   "execution_count": 10,
   "id": "41efbd57",
   "metadata": {},
   "outputs": [],
   "source": [
    "import numpy as np\n"
   ]
  },
  {
   "cell_type": "code",
   "execution_count": 11,
   "id": "69ab37ce",
   "metadata": {},
   "outputs": [
    {
     "name": "stdout",
     "output_type": "stream",
     "text": [
      "(10, 2) (10,)\n"
     ]
    }
   ],
   "source": [
    "# Generate synthetic housing dataset (Size, Rooms) → Price\n",
    "np.random.seed(42)\n",
    "\n",
    "data = np.genfromtxt(\"../data/housing.csv\", delimiter=\",\", skip_header=1)\n",
    "\n",
    "# Combine features\n",
    "X = data[:, :-1]   # Size, Rooms\n",
    "y = data[:, -1]\n",
    "\n",
    "print(X.shape, y.shape)\n"
   ]
  },
  {
   "cell_type": "code",
   "execution_count": 12,
   "id": "3bd3d390",
   "metadata": {},
   "outputs": [],
   "source": [
    "def normalize_features(X):\n",
    "    mean = np.mean(X, axis=0)\n",
    "    std = np.std(X, axis=0)\n",
    "    return (X - mean) / std, mean, std\n",
    "\n",
    "X_norm, mean, std = normalize_features(X)\n",
    "\n",
    "def add_bias(X):\n",
    "    return np.c_[np.ones(X.shape[0]), X]\n",
    "\n",
    "X_bias = add_bias(X_norm)\n",
    "\n"
   ]
  },
  {
   "cell_type": "code",
   "execution_count": 13,
   "id": "817c30a9",
   "metadata": {},
   "outputs": [
    {
     "name": "stdout",
     "output_type": "stream",
     "text": [
      "Coefficients: [286500.          42470.01616051   2830.47980941]\n",
      "Mean Squared Error: 1359635415.37\n",
      "R² Score: 0.5829\n",
      "Predicted price: $295,606.35\n"
     ]
    }
   ],
   "source": [
    "def normal_equation(X, y):\n",
    "    return np.linalg.inv(X.T @ X) @ X.T @ y\n",
    "\n",
    "\n",
    "theta = normal_equation(X_bias, y)\n",
    "print(\"Coefficients:\", theta)\n",
    "\n",
    "\n",
    "y_pred = X_bias @ theta\n",
    "\n",
    "\n",
    "def mean_squared_error(y_true, y_pred):\n",
    "    return np.mean((y_true - y_pred) ** 2)\n",
    "\n",
    "def r2_score(y_true, y_pred):\n",
    "    ss_res = np.sum((y_true - y_pred)**2)\n",
    "    ss_tot = np.sum((y_true - np.mean(y_true))**2)\n",
    "    return 1 - (ss_res / ss_tot)\n",
    "\n",
    "mse = mean_squared_error(y, y_pred)\n",
    "r2 = r2_score(y, y_pred)\n",
    "\n",
    "print(f\"Mean Squared Error: {mse:.2f}\")\n",
    "print(f\"R² Score: {r2:.4f}\")\n",
    "\n",
    "\n",
    "# Test: House with 1800 sq.ft and 3 rooms\n",
    "new_input = np.array([[1800, 3]])\n",
    "new_input_norm = (new_input - mean) / std\n",
    "new_input_bias = add_bias(new_input_norm)\n",
    "\n",
    "predicted_price = new_input_bias @ theta\n",
    "print(f\"Predicted price: ${predicted_price[0]:,.2f}\")\n"
   ]
  }
 ],
 "metadata": {
  "kernelspec": {
   "display_name": "Python 3",
   "language": "python",
   "name": "python3"
  },
  "language_info": {
   "codemirror_mode": {
    "name": "ipython",
    "version": 3
   },
   "file_extension": ".py",
   "mimetype": "text/x-python",
   "name": "python",
   "nbconvert_exporter": "python",
   "pygments_lexer": "ipython3",
   "version": "3.13.1"
  }
 },
 "nbformat": 4,
 "nbformat_minor": 5
}
